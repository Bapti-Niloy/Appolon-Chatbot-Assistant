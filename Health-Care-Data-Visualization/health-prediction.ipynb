{
 "cells": [
  {
   "cell_type": "code",
   "execution_count": 1,
   "id": "ordinary-carolina",
   "metadata": {
    "execution": {
     "iopub.execute_input": "2021-07-25T14:05:10.648937Z",
     "iopub.status.busy": "2021-07-25T14:05:10.647997Z",
     "iopub.status.idle": "2021-07-25T14:05:11.651651Z",
     "shell.execute_reply": "2021-07-25T14:05:11.652159Z",
     "shell.execute_reply.started": "2021-07-25T14:04:27.888454Z"
    },
    "papermill": {
     "duration": 1.034803,
     "end_time": "2021-07-25T14:05:11.652327",
     "exception": false,
     "start_time": "2021-07-25T14:05:10.617524",
     "status": "completed"
    },
    "tags": []
   },
   "outputs": [],
   "source": [
    "import numpy as np\n",
    "import pandas as pd\n",
    "import seaborn as sns\n",
    "\n",
    "import matplotlib.pyplot as plt\n",
    "from sklearn.svm import SVR\n",
    "from matplotlib.colors import ListedColormap\n",
    "\n"
   ]
  },
  {
   "cell_type": "code",
   "execution_count": 2,
   "id": "duplicate-manor",
   "metadata": {
    "execution": {
     "iopub.execute_input": "2021-07-25T14:05:11.705952Z",
     "iopub.status.busy": "2021-07-25T14:05:11.705097Z",
     "iopub.status.idle": "2021-07-25T14:05:11.805377Z",
     "shell.execute_reply": "2021-07-25T14:05:11.804879Z",
     "shell.execute_reply.started": "2021-07-25T14:04:28.910179Z"
    },
    "papermill": {
     "duration": 0.128255,
     "end_time": "2021-07-25T14:05:11.805531",
     "exception": false,
     "start_time": "2021-07-25T14:05:11.677276",
     "status": "completed"
    },
    "tags": []
   },
   "outputs": [],
   "source": [
    "test=pd.read_csv(\"Testing.csv\") \n",
    "train=pd.read_csv(\"Training.csv\")"
   ]
  },
  {
   "cell_type": "code",
   "execution_count": 3,
   "id": "amateur-leone",
   "metadata": {
    "execution": {
     "iopub.execute_input": "2021-07-25T14:05:11.868905Z",
     "iopub.status.busy": "2021-07-25T14:05:11.867993Z",
     "iopub.status.idle": "2021-07-25T14:05:11.886474Z",
     "shell.execute_reply": "2021-07-25T14:05:11.885873Z",
     "shell.execute_reply.started": "2021-07-25T14:04:29.017031Z"
    },
    "papermill": {
     "duration": 0.056601,
     "end_time": "2021-07-25T14:05:11.886621",
     "exception": false,
     "start_time": "2021-07-25T14:05:11.830020",
     "status": "completed"
    },
    "tags": []
   },
   "outputs": [
    {
     "data": {
      "text/html": [
       "<div>\n",
       "<style scoped>\n",
       "    .dataframe tbody tr th:only-of-type {\n",
       "        vertical-align: middle;\n",
       "    }\n",
       "\n",
       "    .dataframe tbody tr th {\n",
       "        vertical-align: top;\n",
       "    }\n",
       "\n",
       "    .dataframe thead th {\n",
       "        text-align: right;\n",
       "    }\n",
       "</style>\n",
       "<table border=\"1\" class=\"dataframe\">\n",
       "  <thead>\n",
       "    <tr style=\"text-align: right;\">\n",
       "      <th></th>\n",
       "      <th>itching</th>\n",
       "      <th>skin_rash</th>\n",
       "      <th>nodal_skin_eruptions</th>\n",
       "      <th>continuous_sneezing</th>\n",
       "      <th>shivering</th>\n",
       "      <th>chills</th>\n",
       "      <th>joint_pain</th>\n",
       "      <th>stomach_pain</th>\n",
       "      <th>acidity</th>\n",
       "      <th>ulcers_on_tongue</th>\n",
       "      <th>...</th>\n",
       "      <th>blackheads</th>\n",
       "      <th>scurring</th>\n",
       "      <th>skin_peeling</th>\n",
       "      <th>silver_like_dusting</th>\n",
       "      <th>small_dents_in_nails</th>\n",
       "      <th>inflammatory_nails</th>\n",
       "      <th>blister</th>\n",
       "      <th>red_sore_around_nose</th>\n",
       "      <th>yellow_crust_ooze</th>\n",
       "      <th>prognosis</th>\n",
       "    </tr>\n",
       "  </thead>\n",
       "  <tbody>\n",
       "    <tr>\n",
       "      <th>3038</th>\n",
       "      <td>1</td>\n",
       "      <td>1</td>\n",
       "      <td>0</td>\n",
       "      <td>0</td>\n",
       "      <td>0</td>\n",
       "      <td>0</td>\n",
       "      <td>0</td>\n",
       "      <td>1</td>\n",
       "      <td>0</td>\n",
       "      <td>0</td>\n",
       "      <td>...</td>\n",
       "      <td>0</td>\n",
       "      <td>0</td>\n",
       "      <td>0</td>\n",
       "      <td>0</td>\n",
       "      <td>0</td>\n",
       "      <td>0</td>\n",
       "      <td>0</td>\n",
       "      <td>0</td>\n",
       "      <td>0</td>\n",
       "      <td>Drug Reaction</td>\n",
       "    </tr>\n",
       "  </tbody>\n",
       "</table>\n",
       "<p>1 rows × 133 columns</p>\n",
       "</div>"
      ],
      "text/plain": [
       "      itching  skin_rash  nodal_skin_eruptions  continuous_sneezing  \\\n",
       "3038        1          1                     0                    0   \n",
       "\n",
       "      shivering  chills  joint_pain  stomach_pain  acidity  ulcers_on_tongue  \\\n",
       "3038          0       0           0             1        0                 0   \n",
       "\n",
       "      ...  blackheads  scurring  skin_peeling  silver_like_dusting  \\\n",
       "3038  ...           0         0             0                    0   \n",
       "\n",
       "      small_dents_in_nails  inflammatory_nails  blister  red_sore_around_nose  \\\n",
       "3038                     0                   0        0                     0   \n",
       "\n",
       "      yellow_crust_ooze      prognosis  \n",
       "3038                  0  Drug Reaction  \n",
       "\n",
       "[1 rows x 133 columns]"
      ]
     },
     "execution_count": 3,
     "metadata": {},
     "output_type": "execute_result"
    }
   ],
   "source": [
    "train.sample(n=1)\n",
    "#This will indicate any random 1 data will be retreived \n",
    "\n"
   ]
  },
  {
   "cell_type": "code",
   "execution_count": 4,
   "id": "buried-beatles",
   "metadata": {
    "execution": {
     "iopub.execute_input": "2021-07-25T14:05:11.940961Z",
     "iopub.status.busy": "2021-07-25T14:05:11.939845Z",
     "iopub.status.idle": "2021-07-25T14:05:11.946038Z",
     "shell.execute_reply": "2021-07-25T14:05:11.945467Z",
     "shell.execute_reply.started": "2021-07-25T14:04:29.051259Z"
    },
    "papermill": {
     "duration": 0.035305,
     "end_time": "2021-07-25T14:05:11.946156",
     "exception": false,
     "start_time": "2021-07-25T14:05:11.910851",
     "status": "completed"
    },
    "tags": []
   },
   "outputs": [],
   "source": [
    "data = pd.concat([train, test])\n"
   ]
  },
  {
   "cell_type": "code",
   "execution_count": 5,
   "id": "utility-dodge",
   "metadata": {
    "execution": {
     "iopub.execute_input": "2021-07-25T14:05:12.017151Z",
     "iopub.status.busy": "2021-07-25T14:05:12.009276Z",
     "iopub.status.idle": "2021-07-25T14:05:12.021551Z",
     "shell.execute_reply": "2021-07-25T14:05:12.021088Z",
     "shell.execute_reply.started": "2021-07-25T14:04:29.060419Z"
    },
    "papermill": {
     "duration": 0.050792,
     "end_time": "2021-07-25T14:05:12.021680",
     "exception": false,
     "start_time": "2021-07-25T14:05:11.970888",
     "status": "completed"
    },
    "tags": []
   },
   "outputs": [
    {
     "data": {
      "text/html": [
       "<div>\n",
       "<style scoped>\n",
       "    .dataframe tbody tr th:only-of-type {\n",
       "        vertical-align: middle;\n",
       "    }\n",
       "\n",
       "    .dataframe tbody tr th {\n",
       "        vertical-align: top;\n",
       "    }\n",
       "\n",
       "    .dataframe thead th {\n",
       "        text-align: right;\n",
       "    }\n",
       "</style>\n",
       "<table border=\"1\" class=\"dataframe\">\n",
       "  <thead>\n",
       "    <tr style=\"text-align: right;\">\n",
       "      <th></th>\n",
       "      <th>itching</th>\n",
       "      <th>skin_rash</th>\n",
       "      <th>nodal_skin_eruptions</th>\n",
       "      <th>continuous_sneezing</th>\n",
       "      <th>shivering</th>\n",
       "      <th>chills</th>\n",
       "      <th>joint_pain</th>\n",
       "      <th>stomach_pain</th>\n",
       "      <th>acidity</th>\n",
       "      <th>ulcers_on_tongue</th>\n",
       "      <th>...</th>\n",
       "      <th>blackheads</th>\n",
       "      <th>scurring</th>\n",
       "      <th>skin_peeling</th>\n",
       "      <th>silver_like_dusting</th>\n",
       "      <th>small_dents_in_nails</th>\n",
       "      <th>inflammatory_nails</th>\n",
       "      <th>blister</th>\n",
       "      <th>red_sore_around_nose</th>\n",
       "      <th>yellow_crust_ooze</th>\n",
       "      <th>prognosis</th>\n",
       "    </tr>\n",
       "  </thead>\n",
       "  <tbody>\n",
       "    <tr>\n",
       "      <th>1959</th>\n",
       "      <td>0</td>\n",
       "      <td>0</td>\n",
       "      <td>0</td>\n",
       "      <td>0</td>\n",
       "      <td>0</td>\n",
       "      <td>0</td>\n",
       "      <td>0</td>\n",
       "      <td>0</td>\n",
       "      <td>0</td>\n",
       "      <td>0</td>\n",
       "      <td>...</td>\n",
       "      <td>0</td>\n",
       "      <td>0</td>\n",
       "      <td>0</td>\n",
       "      <td>0</td>\n",
       "      <td>0</td>\n",
       "      <td>0</td>\n",
       "      <td>0</td>\n",
       "      <td>0</td>\n",
       "      <td>0</td>\n",
       "      <td>Hypothyroidism</td>\n",
       "    </tr>\n",
       "    <tr>\n",
       "      <th>2848</th>\n",
       "      <td>0</td>\n",
       "      <td>0</td>\n",
       "      <td>0</td>\n",
       "      <td>0</td>\n",
       "      <td>0</td>\n",
       "      <td>0</td>\n",
       "      <td>1</td>\n",
       "      <td>0</td>\n",
       "      <td>0</td>\n",
       "      <td>0</td>\n",
       "      <td>...</td>\n",
       "      <td>0</td>\n",
       "      <td>0</td>\n",
       "      <td>0</td>\n",
       "      <td>0</td>\n",
       "      <td>0</td>\n",
       "      <td>0</td>\n",
       "      <td>0</td>\n",
       "      <td>0</td>\n",
       "      <td>0</td>\n",
       "      <td>hepatitis A</td>\n",
       "    </tr>\n",
       "    <tr>\n",
       "      <th>4253</th>\n",
       "      <td>0</td>\n",
       "      <td>0</td>\n",
       "      <td>0</td>\n",
       "      <td>0</td>\n",
       "      <td>0</td>\n",
       "      <td>0</td>\n",
       "      <td>0</td>\n",
       "      <td>0</td>\n",
       "      <td>0</td>\n",
       "      <td>0</td>\n",
       "      <td>...</td>\n",
       "      <td>0</td>\n",
       "      <td>0</td>\n",
       "      <td>0</td>\n",
       "      <td>0</td>\n",
       "      <td>0</td>\n",
       "      <td>0</td>\n",
       "      <td>0</td>\n",
       "      <td>0</td>\n",
       "      <td>0</td>\n",
       "      <td>Varicose veins</td>\n",
       "    </tr>\n",
       "    <tr>\n",
       "      <th>2956</th>\n",
       "      <td>1</td>\n",
       "      <td>1</td>\n",
       "      <td>0</td>\n",
       "      <td>0</td>\n",
       "      <td>0</td>\n",
       "      <td>0</td>\n",
       "      <td>0</td>\n",
       "      <td>1</td>\n",
       "      <td>0</td>\n",
       "      <td>0</td>\n",
       "      <td>...</td>\n",
       "      <td>0</td>\n",
       "      <td>0</td>\n",
       "      <td>0</td>\n",
       "      <td>0</td>\n",
       "      <td>0</td>\n",
       "      <td>0</td>\n",
       "      <td>0</td>\n",
       "      <td>0</td>\n",
       "      <td>0</td>\n",
       "      <td>Drug Reaction</td>\n",
       "    </tr>\n",
       "    <tr>\n",
       "      <th>15</th>\n",
       "      <td>0</td>\n",
       "      <td>0</td>\n",
       "      <td>0</td>\n",
       "      <td>0</td>\n",
       "      <td>0</td>\n",
       "      <td>1</td>\n",
       "      <td>0</td>\n",
       "      <td>0</td>\n",
       "      <td>0</td>\n",
       "      <td>0</td>\n",
       "      <td>...</td>\n",
       "      <td>0</td>\n",
       "      <td>0</td>\n",
       "      <td>0</td>\n",
       "      <td>0</td>\n",
       "      <td>0</td>\n",
       "      <td>0</td>\n",
       "      <td>0</td>\n",
       "      <td>0</td>\n",
       "      <td>0</td>\n",
       "      <td>Malaria</td>\n",
       "    </tr>\n",
       "    <tr>\n",
       "      <th>2726</th>\n",
       "      <td>1</td>\n",
       "      <td>0</td>\n",
       "      <td>0</td>\n",
       "      <td>0</td>\n",
       "      <td>0</td>\n",
       "      <td>0</td>\n",
       "      <td>0</td>\n",
       "      <td>0</td>\n",
       "      <td>0</td>\n",
       "      <td>0</td>\n",
       "      <td>...</td>\n",
       "      <td>0</td>\n",
       "      <td>0</td>\n",
       "      <td>0</td>\n",
       "      <td>0</td>\n",
       "      <td>0</td>\n",
       "      <td>0</td>\n",
       "      <td>0</td>\n",
       "      <td>0</td>\n",
       "      <td>0</td>\n",
       "      <td>Hepatitis B</td>\n",
       "    </tr>\n",
       "    <tr>\n",
       "      <th>1354</th>\n",
       "      <td>0</td>\n",
       "      <td>0</td>\n",
       "      <td>0</td>\n",
       "      <td>0</td>\n",
       "      <td>0</td>\n",
       "      <td>0</td>\n",
       "      <td>0</td>\n",
       "      <td>0</td>\n",
       "      <td>0</td>\n",
       "      <td>0</td>\n",
       "      <td>...</td>\n",
       "      <td>0</td>\n",
       "      <td>0</td>\n",
       "      <td>0</td>\n",
       "      <td>0</td>\n",
       "      <td>0</td>\n",
       "      <td>0</td>\n",
       "      <td>0</td>\n",
       "      <td>0</td>\n",
       "      <td>0</td>\n",
       "      <td>Cervical spondylosis</td>\n",
       "    </tr>\n",
       "    <tr>\n",
       "      <th>3853</th>\n",
       "      <td>0</td>\n",
       "      <td>1</td>\n",
       "      <td>0</td>\n",
       "      <td>0</td>\n",
       "      <td>0</td>\n",
       "      <td>0</td>\n",
       "      <td>0</td>\n",
       "      <td>0</td>\n",
       "      <td>0</td>\n",
       "      <td>0</td>\n",
       "      <td>...</td>\n",
       "      <td>0</td>\n",
       "      <td>0</td>\n",
       "      <td>0</td>\n",
       "      <td>0</td>\n",
       "      <td>0</td>\n",
       "      <td>0</td>\n",
       "      <td>1</td>\n",
       "      <td>1</td>\n",
       "      <td>1</td>\n",
       "      <td>Impetigo</td>\n",
       "    </tr>\n",
       "    <tr>\n",
       "      <th>1038</th>\n",
       "      <td>0</td>\n",
       "      <td>0</td>\n",
       "      <td>0</td>\n",
       "      <td>0</td>\n",
       "      <td>0</td>\n",
       "      <td>0</td>\n",
       "      <td>0</td>\n",
       "      <td>0</td>\n",
       "      <td>0</td>\n",
       "      <td>0</td>\n",
       "      <td>...</td>\n",
       "      <td>0</td>\n",
       "      <td>0</td>\n",
       "      <td>0</td>\n",
       "      <td>0</td>\n",
       "      <td>0</td>\n",
       "      <td>0</td>\n",
       "      <td>0</td>\n",
       "      <td>0</td>\n",
       "      <td>0</td>\n",
       "      <td>Hepatitis C</td>\n",
       "    </tr>\n",
       "    <tr>\n",
       "      <th>444</th>\n",
       "      <td>1</td>\n",
       "      <td>0</td>\n",
       "      <td>0</td>\n",
       "      <td>0</td>\n",
       "      <td>0</td>\n",
       "      <td>0</td>\n",
       "      <td>0</td>\n",
       "      <td>0</td>\n",
       "      <td>0</td>\n",
       "      <td>0</td>\n",
       "      <td>...</td>\n",
       "      <td>0</td>\n",
       "      <td>0</td>\n",
       "      <td>0</td>\n",
       "      <td>0</td>\n",
       "      <td>0</td>\n",
       "      <td>0</td>\n",
       "      <td>0</td>\n",
       "      <td>0</td>\n",
       "      <td>0</td>\n",
       "      <td>Chronic cholestasis</td>\n",
       "    </tr>\n",
       "  </tbody>\n",
       "</table>\n",
       "<p>10 rows × 133 columns</p>\n",
       "</div>"
      ],
      "text/plain": [
       "      itching  skin_rash  nodal_skin_eruptions  continuous_sneezing  \\\n",
       "1959        0          0                     0                    0   \n",
       "2848        0          0                     0                    0   \n",
       "4253        0          0                     0                    0   \n",
       "2956        1          1                     0                    0   \n",
       "15          0          0                     0                    0   \n",
       "2726        1          0                     0                    0   \n",
       "1354        0          0                     0                    0   \n",
       "3853        0          1                     0                    0   \n",
       "1038        0          0                     0                    0   \n",
       "444         1          0                     0                    0   \n",
       "\n",
       "      shivering  chills  joint_pain  stomach_pain  acidity  ulcers_on_tongue  \\\n",
       "1959          0       0           0             0        0                 0   \n",
       "2848          0       0           1             0        0                 0   \n",
       "4253          0       0           0             0        0                 0   \n",
       "2956          0       0           0             1        0                 0   \n",
       "15            0       1           0             0        0                 0   \n",
       "2726          0       0           0             0        0                 0   \n",
       "1354          0       0           0             0        0                 0   \n",
       "3853          0       0           0             0        0                 0   \n",
       "1038          0       0           0             0        0                 0   \n",
       "444           0       0           0             0        0                 0   \n",
       "\n",
       "      ...  blackheads  scurring  skin_peeling  silver_like_dusting  \\\n",
       "1959  ...           0         0             0                    0   \n",
       "2848  ...           0         0             0                    0   \n",
       "4253  ...           0         0             0                    0   \n",
       "2956  ...           0         0             0                    0   \n",
       "15    ...           0         0             0                    0   \n",
       "2726  ...           0         0             0                    0   \n",
       "1354  ...           0         0             0                    0   \n",
       "3853  ...           0         0             0                    0   \n",
       "1038  ...           0         0             0                    0   \n",
       "444   ...           0         0             0                    0   \n",
       "\n",
       "      small_dents_in_nails  inflammatory_nails  blister  red_sore_around_nose  \\\n",
       "1959                     0                   0        0                     0   \n",
       "2848                     0                   0        0                     0   \n",
       "4253                     0                   0        0                     0   \n",
       "2956                     0                   0        0                     0   \n",
       "15                       0                   0        0                     0   \n",
       "2726                     0                   0        0                     0   \n",
       "1354                     0                   0        0                     0   \n",
       "3853                     0                   0        1                     1   \n",
       "1038                     0                   0        0                     0   \n",
       "444                      0                   0        0                     0   \n",
       "\n",
       "      yellow_crust_ooze             prognosis  \n",
       "1959                  0        Hypothyroidism  \n",
       "2848                  0           hepatitis A  \n",
       "4253                  0        Varicose veins  \n",
       "2956                  0         Drug Reaction  \n",
       "15                    0               Malaria  \n",
       "2726                  0           Hepatitis B  \n",
       "1354                  0  Cervical spondylosis  \n",
       "3853                  1              Impetigo  \n",
       "1038                  0           Hepatitis C  \n",
       "444                   0   Chronic cholestasis  \n",
       "\n",
       "[10 rows x 133 columns]"
      ]
     },
     "execution_count": 5,
     "metadata": {},
     "output_type": "execute_result"
    }
   ],
   "source": [
    "data.sample(10)\n",
    "#This will give us randome sample data \n"
   ]
  },
  {
   "cell_type": "code",
   "execution_count": 6,
   "id": "bronze-battlefield",
   "metadata": {
    "execution": {
     "iopub.execute_input": "2021-07-25T14:05:12.077795Z",
     "iopub.status.busy": "2021-07-25T14:05:12.077213Z",
     "iopub.status.idle": "2021-07-25T14:05:12.095085Z",
     "shell.execute_reply": "2021-07-25T14:05:12.095507Z",
     "shell.execute_reply.started": "2021-07-25T14:04:29.085963Z"
    },
    "papermill": {
     "duration": 0.047224,
     "end_time": "2021-07-25T14:05:12.095672",
     "exception": false,
     "start_time": "2021-07-25T14:05:12.048448",
     "status": "completed"
    },
    "tags": []
   },
   "outputs": [
    {
     "data": {
      "text/html": [
       "<div>\n",
       "<style scoped>\n",
       "    .dataframe tbody tr th:only-of-type {\n",
       "        vertical-align: middle;\n",
       "    }\n",
       "\n",
       "    .dataframe tbody tr th {\n",
       "        vertical-align: top;\n",
       "    }\n",
       "\n",
       "    .dataframe thead th {\n",
       "        text-align: right;\n",
       "    }\n",
       "</style>\n",
       "<table border=\"1\" class=\"dataframe\">\n",
       "  <thead>\n",
       "    <tr style=\"text-align: right;\">\n",
       "      <th></th>\n",
       "      <th>itching</th>\n",
       "      <th>skin_rash</th>\n",
       "      <th>nodal_skin_eruptions</th>\n",
       "      <th>continuous_sneezing</th>\n",
       "      <th>shivering</th>\n",
       "      <th>chills</th>\n",
       "      <th>joint_pain</th>\n",
       "      <th>stomach_pain</th>\n",
       "      <th>acidity</th>\n",
       "      <th>ulcers_on_tongue</th>\n",
       "      <th>...</th>\n",
       "      <th>blackheads</th>\n",
       "      <th>scurring</th>\n",
       "      <th>skin_peeling</th>\n",
       "      <th>silver_like_dusting</th>\n",
       "      <th>small_dents_in_nails</th>\n",
       "      <th>inflammatory_nails</th>\n",
       "      <th>blister</th>\n",
       "      <th>red_sore_around_nose</th>\n",
       "      <th>yellow_crust_ooze</th>\n",
       "      <th>prognosis</th>\n",
       "    </tr>\n",
       "  </thead>\n",
       "  <tbody>\n",
       "    <tr>\n",
       "      <th>0</th>\n",
       "      <td>1</td>\n",
       "      <td>1</td>\n",
       "      <td>1</td>\n",
       "      <td>0</td>\n",
       "      <td>0</td>\n",
       "      <td>0</td>\n",
       "      <td>0</td>\n",
       "      <td>0</td>\n",
       "      <td>0</td>\n",
       "      <td>0</td>\n",
       "      <td>...</td>\n",
       "      <td>0</td>\n",
       "      <td>0</td>\n",
       "      <td>0</td>\n",
       "      <td>0</td>\n",
       "      <td>0</td>\n",
       "      <td>0</td>\n",
       "      <td>0</td>\n",
       "      <td>0</td>\n",
       "      <td>0</td>\n",
       "      <td>Fungal infection</td>\n",
       "    </tr>\n",
       "    <tr>\n",
       "      <th>1</th>\n",
       "      <td>0</td>\n",
       "      <td>1</td>\n",
       "      <td>1</td>\n",
       "      <td>0</td>\n",
       "      <td>0</td>\n",
       "      <td>0</td>\n",
       "      <td>0</td>\n",
       "      <td>0</td>\n",
       "      <td>0</td>\n",
       "      <td>0</td>\n",
       "      <td>...</td>\n",
       "      <td>0</td>\n",
       "      <td>0</td>\n",
       "      <td>0</td>\n",
       "      <td>0</td>\n",
       "      <td>0</td>\n",
       "      <td>0</td>\n",
       "      <td>0</td>\n",
       "      <td>0</td>\n",
       "      <td>0</td>\n",
       "      <td>Fungal infection</td>\n",
       "    </tr>\n",
       "    <tr>\n",
       "      <th>2</th>\n",
       "      <td>1</td>\n",
       "      <td>0</td>\n",
       "      <td>1</td>\n",
       "      <td>0</td>\n",
       "      <td>0</td>\n",
       "      <td>0</td>\n",
       "      <td>0</td>\n",
       "      <td>0</td>\n",
       "      <td>0</td>\n",
       "      <td>0</td>\n",
       "      <td>...</td>\n",
       "      <td>0</td>\n",
       "      <td>0</td>\n",
       "      <td>0</td>\n",
       "      <td>0</td>\n",
       "      <td>0</td>\n",
       "      <td>0</td>\n",
       "      <td>0</td>\n",
       "      <td>0</td>\n",
       "      <td>0</td>\n",
       "      <td>Fungal infection</td>\n",
       "    </tr>\n",
       "    <tr>\n",
       "      <th>3</th>\n",
       "      <td>1</td>\n",
       "      <td>1</td>\n",
       "      <td>0</td>\n",
       "      <td>0</td>\n",
       "      <td>0</td>\n",
       "      <td>0</td>\n",
       "      <td>0</td>\n",
       "      <td>0</td>\n",
       "      <td>0</td>\n",
       "      <td>0</td>\n",
       "      <td>...</td>\n",
       "      <td>0</td>\n",
       "      <td>0</td>\n",
       "      <td>0</td>\n",
       "      <td>0</td>\n",
       "      <td>0</td>\n",
       "      <td>0</td>\n",
       "      <td>0</td>\n",
       "      <td>0</td>\n",
       "      <td>0</td>\n",
       "      <td>Fungal infection</td>\n",
       "    </tr>\n",
       "    <tr>\n",
       "      <th>4</th>\n",
       "      <td>1</td>\n",
       "      <td>1</td>\n",
       "      <td>1</td>\n",
       "      <td>0</td>\n",
       "      <td>0</td>\n",
       "      <td>0</td>\n",
       "      <td>0</td>\n",
       "      <td>0</td>\n",
       "      <td>0</td>\n",
       "      <td>0</td>\n",
       "      <td>...</td>\n",
       "      <td>0</td>\n",
       "      <td>0</td>\n",
       "      <td>0</td>\n",
       "      <td>0</td>\n",
       "      <td>0</td>\n",
       "      <td>0</td>\n",
       "      <td>0</td>\n",
       "      <td>0</td>\n",
       "      <td>0</td>\n",
       "      <td>Fungal infection</td>\n",
       "    </tr>\n",
       "  </tbody>\n",
       "</table>\n",
       "<p>5 rows × 133 columns</p>\n",
       "</div>"
      ],
      "text/plain": [
       "   itching  skin_rash  nodal_skin_eruptions  continuous_sneezing  shivering  \\\n",
       "0        1          1                     1                    0          0   \n",
       "1        0          1                     1                    0          0   \n",
       "2        1          0                     1                    0          0   \n",
       "3        1          1                     0                    0          0   \n",
       "4        1          1                     1                    0          0   \n",
       "\n",
       "   chills  joint_pain  stomach_pain  acidity  ulcers_on_tongue  ...  \\\n",
       "0       0           0             0        0                 0  ...   \n",
       "1       0           0             0        0                 0  ...   \n",
       "2       0           0             0        0                 0  ...   \n",
       "3       0           0             0        0                 0  ...   \n",
       "4       0           0             0        0                 0  ...   \n",
       "\n",
       "   blackheads  scurring  skin_peeling  silver_like_dusting  \\\n",
       "0           0         0             0                    0   \n",
       "1           0         0             0                    0   \n",
       "2           0         0             0                    0   \n",
       "3           0         0             0                    0   \n",
       "4           0         0             0                    0   \n",
       "\n",
       "   small_dents_in_nails  inflammatory_nails  blister  red_sore_around_nose  \\\n",
       "0                     0                   0        0                     0   \n",
       "1                     0                   0        0                     0   \n",
       "2                     0                   0        0                     0   \n",
       "3                     0                   0        0                     0   \n",
       "4                     0                   0        0                     0   \n",
       "\n",
       "   yellow_crust_ooze         prognosis  \n",
       "0                  0  Fungal infection  \n",
       "1                  0  Fungal infection  \n",
       "2                  0  Fungal infection  \n",
       "3                  0  Fungal infection  \n",
       "4                  0  Fungal infection  \n",
       "\n",
       "[5 rows x 133 columns]"
      ]
     },
     "execution_count": 6,
     "metadata": {},
     "output_type": "execute_result"
    }
   ],
   "source": [
    "data.head(5)\n",
    "# This will retrieve the 1st 5 data \n"
   ]
  },
  {
   "cell_type": "code",
   "execution_count": 7,
   "id": "unauthorized-thousand",
   "metadata": {
    "execution": {
     "iopub.execute_input": "2021-07-25T14:05:12.165294Z",
     "iopub.status.busy": "2021-07-25T14:05:12.164205Z",
     "iopub.status.idle": "2021-07-25T14:05:12.186548Z",
     "shell.execute_reply": "2021-07-25T14:05:12.187130Z",
     "shell.execute_reply.started": "2021-07-25T14:04:29.113261Z"
    },
    "papermill": {
     "duration": 0.059742,
     "end_time": "2021-07-25T14:05:12.187286",
     "exception": false,
     "start_time": "2021-07-25T14:05:12.127544",
     "status": "completed"
    },
    "tags": []
   },
   "outputs": [
    {
     "data": {
      "text/html": [
       "<div>\n",
       "<style scoped>\n",
       "    .dataframe tbody tr th:only-of-type {\n",
       "        vertical-align: middle;\n",
       "    }\n",
       "\n",
       "    .dataframe tbody tr th {\n",
       "        vertical-align: top;\n",
       "    }\n",
       "\n",
       "    .dataframe thead th {\n",
       "        text-align: right;\n",
       "    }\n",
       "</style>\n",
       "<table border=\"1\" class=\"dataframe\">\n",
       "  <thead>\n",
       "    <tr style=\"text-align: right;\">\n",
       "      <th></th>\n",
       "      <th>itching</th>\n",
       "      <th>skin_rash</th>\n",
       "      <th>nodal_skin_eruptions</th>\n",
       "      <th>continuous_sneezing</th>\n",
       "      <th>shivering</th>\n",
       "      <th>chills</th>\n",
       "      <th>joint_pain</th>\n",
       "      <th>stomach_pain</th>\n",
       "      <th>acidity</th>\n",
       "      <th>ulcers_on_tongue</th>\n",
       "      <th>...</th>\n",
       "      <th>blackheads</th>\n",
       "      <th>scurring</th>\n",
       "      <th>skin_peeling</th>\n",
       "      <th>silver_like_dusting</th>\n",
       "      <th>small_dents_in_nails</th>\n",
       "      <th>inflammatory_nails</th>\n",
       "      <th>blister</th>\n",
       "      <th>red_sore_around_nose</th>\n",
       "      <th>yellow_crust_ooze</th>\n",
       "      <th>prognosis</th>\n",
       "    </tr>\n",
       "  </thead>\n",
       "  <tbody>\n",
       "    <tr>\n",
       "      <th>36</th>\n",
       "      <td>0</td>\n",
       "      <td>0</td>\n",
       "      <td>0</td>\n",
       "      <td>0</td>\n",
       "      <td>0</td>\n",
       "      <td>0</td>\n",
       "      <td>0</td>\n",
       "      <td>0</td>\n",
       "      <td>0</td>\n",
       "      <td>0</td>\n",
       "      <td>...</td>\n",
       "      <td>0</td>\n",
       "      <td>0</td>\n",
       "      <td>0</td>\n",
       "      <td>0</td>\n",
       "      <td>0</td>\n",
       "      <td>0</td>\n",
       "      <td>0</td>\n",
       "      <td>0</td>\n",
       "      <td>0</td>\n",
       "      <td>(vertigo) Paroymsal  Positional Vertigo</td>\n",
       "    </tr>\n",
       "    <tr>\n",
       "      <th>37</th>\n",
       "      <td>0</td>\n",
       "      <td>1</td>\n",
       "      <td>0</td>\n",
       "      <td>0</td>\n",
       "      <td>0</td>\n",
       "      <td>0</td>\n",
       "      <td>0</td>\n",
       "      <td>0</td>\n",
       "      <td>0</td>\n",
       "      <td>0</td>\n",
       "      <td>...</td>\n",
       "      <td>1</td>\n",
       "      <td>1</td>\n",
       "      <td>0</td>\n",
       "      <td>0</td>\n",
       "      <td>0</td>\n",
       "      <td>0</td>\n",
       "      <td>0</td>\n",
       "      <td>0</td>\n",
       "      <td>0</td>\n",
       "      <td>Acne</td>\n",
       "    </tr>\n",
       "    <tr>\n",
       "      <th>38</th>\n",
       "      <td>0</td>\n",
       "      <td>0</td>\n",
       "      <td>0</td>\n",
       "      <td>0</td>\n",
       "      <td>0</td>\n",
       "      <td>0</td>\n",
       "      <td>0</td>\n",
       "      <td>0</td>\n",
       "      <td>0</td>\n",
       "      <td>0</td>\n",
       "      <td>...</td>\n",
       "      <td>0</td>\n",
       "      <td>0</td>\n",
       "      <td>0</td>\n",
       "      <td>0</td>\n",
       "      <td>0</td>\n",
       "      <td>0</td>\n",
       "      <td>0</td>\n",
       "      <td>0</td>\n",
       "      <td>0</td>\n",
       "      <td>Urinary tract infection</td>\n",
       "    </tr>\n",
       "    <tr>\n",
       "      <th>39</th>\n",
       "      <td>0</td>\n",
       "      <td>1</td>\n",
       "      <td>0</td>\n",
       "      <td>0</td>\n",
       "      <td>0</td>\n",
       "      <td>0</td>\n",
       "      <td>1</td>\n",
       "      <td>0</td>\n",
       "      <td>0</td>\n",
       "      <td>0</td>\n",
       "      <td>...</td>\n",
       "      <td>0</td>\n",
       "      <td>0</td>\n",
       "      <td>1</td>\n",
       "      <td>1</td>\n",
       "      <td>1</td>\n",
       "      <td>1</td>\n",
       "      <td>0</td>\n",
       "      <td>0</td>\n",
       "      <td>0</td>\n",
       "      <td>Psoriasis</td>\n",
       "    </tr>\n",
       "    <tr>\n",
       "      <th>40</th>\n",
       "      <td>0</td>\n",
       "      <td>1</td>\n",
       "      <td>0</td>\n",
       "      <td>0</td>\n",
       "      <td>0</td>\n",
       "      <td>0</td>\n",
       "      <td>0</td>\n",
       "      <td>0</td>\n",
       "      <td>0</td>\n",
       "      <td>0</td>\n",
       "      <td>...</td>\n",
       "      <td>0</td>\n",
       "      <td>0</td>\n",
       "      <td>0</td>\n",
       "      <td>0</td>\n",
       "      <td>0</td>\n",
       "      <td>0</td>\n",
       "      <td>1</td>\n",
       "      <td>1</td>\n",
       "      <td>1</td>\n",
       "      <td>Impetigo</td>\n",
       "    </tr>\n",
       "  </tbody>\n",
       "</table>\n",
       "<p>5 rows × 133 columns</p>\n",
       "</div>"
      ],
      "text/plain": [
       "    itching  skin_rash  nodal_skin_eruptions  continuous_sneezing  shivering  \\\n",
       "36        0          0                     0                    0          0   \n",
       "37        0          1                     0                    0          0   \n",
       "38        0          0                     0                    0          0   \n",
       "39        0          1                     0                    0          0   \n",
       "40        0          1                     0                    0          0   \n",
       "\n",
       "    chills  joint_pain  stomach_pain  acidity  ulcers_on_tongue  ...  \\\n",
       "36       0           0             0        0                 0  ...   \n",
       "37       0           0             0        0                 0  ...   \n",
       "38       0           0             0        0                 0  ...   \n",
       "39       0           1             0        0                 0  ...   \n",
       "40       0           0             0        0                 0  ...   \n",
       "\n",
       "    blackheads  scurring  skin_peeling  silver_like_dusting  \\\n",
       "36           0         0             0                    0   \n",
       "37           1         1             0                    0   \n",
       "38           0         0             0                    0   \n",
       "39           0         0             1                    1   \n",
       "40           0         0             0                    0   \n",
       "\n",
       "    small_dents_in_nails  inflammatory_nails  blister  red_sore_around_nose  \\\n",
       "36                     0                   0        0                     0   \n",
       "37                     0                   0        0                     0   \n",
       "38                     0                   0        0                     0   \n",
       "39                     1                   1        0                     0   \n",
       "40                     0                   0        1                     1   \n",
       "\n",
       "    yellow_crust_ooze                                prognosis  \n",
       "36                  0  (vertigo) Paroymsal  Positional Vertigo  \n",
       "37                  0                                     Acne  \n",
       "38                  0                  Urinary tract infection  \n",
       "39                  0                                Psoriasis  \n",
       "40                  1                                 Impetigo  \n",
       "\n",
       "[5 rows x 133 columns]"
      ]
     },
     "execution_count": 7,
     "metadata": {},
     "output_type": "execute_result"
    }
   ],
   "source": [
    "data.tail(5)\n",
    "# This will retrive the last 5 data "
   ]
  },
  {
   "cell_type": "code",
   "execution_count": 8,
   "id": "latest-sustainability",
   "metadata": {
    "execution": {
     "iopub.execute_input": "2021-07-25T14:05:12.253462Z",
     "iopub.status.busy": "2021-07-25T14:05:12.252849Z",
     "iopub.status.idle": "2021-07-25T14:05:12.257517Z",
     "shell.execute_reply": "2021-07-25T14:05:12.257999Z",
     "shell.execute_reply.started": "2021-07-25T14:04:29.136643Z"
    },
    "papermill": {
     "duration": 0.035518,
     "end_time": "2021-07-25T14:05:12.258145",
     "exception": false,
     "start_time": "2021-07-25T14:05:12.222627",
     "status": "completed"
    },
    "tags": []
   },
   "outputs": [
    {
     "data": {
      "text/plain": [
       "Index(['itching', 'skin_rash', 'nodal_skin_eruptions', 'continuous_sneezing',\n",
       "       'shivering', 'chills', 'joint_pain', 'stomach_pain', 'acidity',\n",
       "       'ulcers_on_tongue',\n",
       "       ...\n",
       "       'blackheads', 'scurring', 'skin_peeling', 'silver_like_dusting',\n",
       "       'small_dents_in_nails', 'inflammatory_nails', 'blister',\n",
       "       'red_sore_around_nose', 'yellow_crust_ooze', 'prognosis'],\n",
       "      dtype='object', length=133)"
      ]
     },
     "execution_count": 8,
     "metadata": {},
     "output_type": "execute_result"
    }
   ],
   "source": [
    "data.columns\n",
    "# This will retrieve all the colums associated with the dataset "
   ]
  },
  {
   "cell_type": "code",
   "execution_count": 9,
   "id": "psychological-vacuum",
   "metadata": {
    "execution": {
     "iopub.execute_input": "2021-07-25T14:05:12.317145Z",
     "iopub.status.busy": "2021-07-25T14:05:12.316608Z",
     "iopub.status.idle": "2021-07-25T14:05:12.320617Z",
     "shell.execute_reply": "2021-07-25T14:05:12.321044Z",
     "shell.execute_reply.started": "2021-07-25T14:04:29.147197Z"
    },
    "papermill": {
     "duration": 0.035071,
     "end_time": "2021-07-25T14:05:12.321178",
     "exception": false,
     "start_time": "2021-07-25T14:05:12.286107",
     "status": "completed"
    },
    "tags": []
   },
   "outputs": [
    {
     "data": {
      "text/plain": [
       "(4961, 133)"
      ]
     },
     "execution_count": 9,
     "metadata": {},
     "output_type": "execute_result"
    }
   ],
   "source": [
    "data.shape\n",
    "# It has 4961 rows and 133 columns "
   ]
  },
  {
   "cell_type": "code",
   "execution_count": 10,
   "id": "tribal-reset",
   "metadata": {
    "execution": {
     "iopub.execute_input": "2021-07-25T14:05:12.381235Z",
     "iopub.status.busy": "2021-07-25T14:05:12.380680Z",
     "iopub.status.idle": "2021-07-25T14:05:12.401115Z",
     "shell.execute_reply": "2021-07-25T14:05:12.401577Z",
     "shell.execute_reply.started": "2021-07-25T14:04:29.158945Z"
    },
    "papermill": {
     "duration": 0.052026,
     "end_time": "2021-07-25T14:05:12.401743",
     "exception": false,
     "start_time": "2021-07-25T14:05:12.349717",
     "status": "completed"
    },
    "tags": []
   },
   "outputs": [
    {
     "ename": "TypeError",
     "evalue": "Cannot interpret '<attribute 'dtype' of 'numpy.generic' objects>' as a data type",
     "output_type": "error",
     "traceback": [
      "\u001b[1;31m---------------------------------------------------------------------------\u001b[0m",
      "\u001b[1;31mTypeError\u001b[0m                                 Traceback (most recent call last)",
      "Cell \u001b[1;32mIn[10], line 1\u001b[0m\n\u001b[1;32m----> 1\u001b[0m data\u001b[39m.\u001b[39;49minfo()\n",
      "File \u001b[1;32mc:\\Users\\bapti\\AppData\\Local\\Programs\\Python\\Python38\\lib\\site-packages\\pandas\\core\\frame.py:2497\u001b[0m, in \u001b[0;36mDataFrame.info\u001b[1;34m(self, verbose, buf, max_cols, memory_usage, null_counts)\u001b[0m\n\u001b[0;32m   2495\u001b[0m         \u001b[39mif\u001b[39;00m \u001b[39m\"\u001b[39m\u001b[39mobject\u001b[39m\u001b[39m\"\u001b[39m \u001b[39min\u001b[39;00m counts \u001b[39mor\u001b[39;00m \u001b[39mself\u001b[39m\u001b[39m.\u001b[39mindex\u001b[39m.\u001b[39m_is_memory_usage_qualified():\n\u001b[0;32m   2496\u001b[0m             size_qualifier \u001b[39m=\u001b[39m \u001b[39m\"\u001b[39m\u001b[39m+\u001b[39m\u001b[39m\"\u001b[39m\n\u001b[1;32m-> 2497\u001b[0m     mem_usage \u001b[39m=\u001b[39m \u001b[39mself\u001b[39;49m\u001b[39m.\u001b[39;49mmemory_usage(index\u001b[39m=\u001b[39;49m\u001b[39mTrue\u001b[39;49;00m, deep\u001b[39m=\u001b[39;49mdeep)\u001b[39m.\u001b[39msum()\n\u001b[0;32m   2498\u001b[0m     lines\u001b[39m.\u001b[39mappend(\u001b[39mf\u001b[39m\u001b[39m\"\u001b[39m\u001b[39mmemory usage: \u001b[39m\u001b[39m{\u001b[39;00m_sizeof_fmt(mem_usage, size_qualifier)\u001b[39m}\u001b[39;00m\u001b[39m\\n\u001b[39;00m\u001b[39m\"\u001b[39m)\n\u001b[0;32m   2499\u001b[0m fmt\u001b[39m.\u001b[39mbuffer_put_lines(buf, lines)\n",
      "File \u001b[1;32mc:\\Users\\bapti\\AppData\\Local\\Programs\\Python\\Python38\\lib\\site-packages\\pandas\\core\\frame.py:2590\u001b[0m, in \u001b[0;36mDataFrame.memory_usage\u001b[1;34m(self, index, deep)\u001b[0m\n\u001b[0;32m   2585\u001b[0m result \u001b[39m=\u001b[39m Series(\n\u001b[0;32m   2586\u001b[0m     [c\u001b[39m.\u001b[39mmemory_usage(index\u001b[39m=\u001b[39m\u001b[39mFalse\u001b[39;00m, deep\u001b[39m=\u001b[39mdeep) \u001b[39mfor\u001b[39;00m col, c \u001b[39min\u001b[39;00m \u001b[39mself\u001b[39m\u001b[39m.\u001b[39mitems()],\n\u001b[0;32m   2587\u001b[0m     index\u001b[39m=\u001b[39m\u001b[39mself\u001b[39m\u001b[39m.\u001b[39mcolumns,\n\u001b[0;32m   2588\u001b[0m )\n\u001b[0;32m   2589\u001b[0m \u001b[39mif\u001b[39;00m index:\n\u001b[1;32m-> 2590\u001b[0m     result \u001b[39m=\u001b[39m Series(\u001b[39mself\u001b[39;49m\u001b[39m.\u001b[39;49mindex\u001b[39m.\u001b[39;49mmemory_usage(deep\u001b[39m=\u001b[39;49mdeep), index\u001b[39m=\u001b[39;49m[\u001b[39m\"\u001b[39;49m\u001b[39mIndex\u001b[39;49m\u001b[39m\"\u001b[39;49m])\u001b[39m.\u001b[39mappend(\n\u001b[0;32m   2591\u001b[0m         result\n\u001b[0;32m   2592\u001b[0m     )\n\u001b[0;32m   2593\u001b[0m \u001b[39mreturn\u001b[39;00m result\n",
      "File \u001b[1;32mc:\\Users\\bapti\\AppData\\Local\\Programs\\Python\\Python38\\lib\\site-packages\\pandas\\core\\series.py:305\u001b[0m, in \u001b[0;36mSeries.__init__\u001b[1;34m(self, data, index, dtype, name, copy, fastpath)\u001b[0m\n\u001b[0;32m    303\u001b[0m             data \u001b[39m=\u001b[39m data\u001b[39m.\u001b[39mcopy()\n\u001b[0;32m    304\u001b[0m     \u001b[39melse\u001b[39;00m:\n\u001b[1;32m--> 305\u001b[0m         data \u001b[39m=\u001b[39m sanitize_array(data, index, dtype, copy, raise_cast_failure\u001b[39m=\u001b[39;49m\u001b[39mTrue\u001b[39;49;00m)\n\u001b[0;32m    307\u001b[0m         data \u001b[39m=\u001b[39m SingleBlockManager(data, index, fastpath\u001b[39m=\u001b[39m\u001b[39mTrue\u001b[39;00m)\n\u001b[0;32m    309\u001b[0m generic\u001b[39m.\u001b[39mNDFrame\u001b[39m.\u001b[39m\u001b[39m__init__\u001b[39m(\u001b[39mself\u001b[39m, data, fastpath\u001b[39m=\u001b[39m\u001b[39mTrue\u001b[39;00m)\n",
      "File \u001b[1;32mc:\\Users\\bapti\\AppData\\Local\\Programs\\Python\\Python38\\lib\\site-packages\\pandas\\core\\construction.py:465\u001b[0m, in \u001b[0;36msanitize_array\u001b[1;34m(data, index, dtype, copy, raise_cast_failure)\u001b[0m\n\u001b[0;32m    461\u001b[0m     \u001b[39melse\u001b[39;00m:\n\u001b[0;32m    462\u001b[0m         \u001b[39m# need to possibly convert the value here\u001b[39;00m\n\u001b[0;32m    463\u001b[0m         value \u001b[39m=\u001b[39m maybe_cast_to_datetime(value, dtype)\n\u001b[1;32m--> 465\u001b[0m     subarr \u001b[39m=\u001b[39m construct_1d_arraylike_from_scalar(value, \u001b[39mlen\u001b[39;49m(index), dtype)\n\u001b[0;32m    467\u001b[0m \u001b[39melse\u001b[39;00m:\n\u001b[0;32m    468\u001b[0m     \u001b[39mreturn\u001b[39;00m subarr\u001b[39m.\u001b[39mitem()\n",
      "File \u001b[1;32mc:\\Users\\bapti\\AppData\\Local\\Programs\\Python\\Python38\\lib\\site-packages\\pandas\\core\\dtypes\\cast.py:1452\u001b[0m, in \u001b[0;36mconstruct_1d_arraylike_from_scalar\u001b[1;34m(value, length, dtype)\u001b[0m\n\u001b[0;32m   1449\u001b[0m         \u001b[39mif\u001b[39;00m \u001b[39mnot\u001b[39;00m isna(value):\n\u001b[0;32m   1450\u001b[0m             value \u001b[39m=\u001b[39m ensure_str(value)\n\u001b[1;32m-> 1452\u001b[0m     subarr \u001b[39m=\u001b[39m np\u001b[39m.\u001b[39;49mempty(length, dtype\u001b[39m=\u001b[39;49mdtype)\n\u001b[0;32m   1453\u001b[0m     subarr\u001b[39m.\u001b[39mfill(value)\n\u001b[0;32m   1455\u001b[0m \u001b[39mreturn\u001b[39;00m subarr\n",
      "\u001b[1;31mTypeError\u001b[0m: Cannot interpret '<attribute 'dtype' of 'numpy.generic' objects>' as a data type"
     ]
    }
   ],
   "source": [
    "data.info()"
   ]
  },
  {
   "cell_type": "code",
   "execution_count": null,
   "id": "english-atlantic",
   "metadata": {
    "execution": {
     "iopub.execute_input": "2021-07-25T14:05:12.463033Z",
     "iopub.status.busy": "2021-07-25T14:05:12.462388Z",
     "iopub.status.idle": "2021-07-25T14:05:12.646239Z",
     "shell.execute_reply": "2021-07-25T14:05:12.645598Z",
     "shell.execute_reply.started": "2021-07-25T14:04:29.186722Z"
    },
    "papermill": {
     "duration": 0.216487,
     "end_time": "2021-07-25T14:05:12.646420",
     "exception": false,
     "start_time": "2021-07-25T14:05:12.429933",
     "status": "completed"
    },
    "tags": []
   },
   "outputs": [
    {
     "data": {
      "text/plain": [
       "<AxesSubplot:title={'center':'skin_rash'}, xlabel='itching'>"
      ]
     },
     "execution_count": 12,
     "metadata": {},
     "output_type": "execute_result"
    },
    {
     "data": {
      "image/png": "[encoded data removed]",
      "text/plain": [
       "<Figure size 432x288 with 1 Axes>"
      ]
     },
     "metadata": {
      "needs_background": "light"
     },
     "output_type": "display_data"
    }
   ],
   "source": [
    "# What we are expecting from visualization. ? \n",
    "data.boxplot(column ='skin_rash', by='itching') #boxplot shows outlier, median,Q3,Q1\n"
   ]
  },
  {
   "cell_type": "code",
   "execution_count": null,
   "id": "valid-trade",
   "metadata": {
    "execution": {
     "iopub.execute_input": "2021-07-25T14:05:12.711236Z",
     "iopub.status.busy": "2021-07-25T14:05:12.710636Z",
     "iopub.status.idle": "2021-07-25T14:05:12.974883Z",
     "shell.execute_reply": "2021-07-25T14:05:12.975343Z",
     "shell.execute_reply.started": "2021-07-25T14:04:29.378565Z"
    },
    "papermill": {
     "duration": 0.29943,
     "end_time": "2021-07-25T14:05:12.975566",
     "exception": false,
     "start_time": "2021-07-25T14:05:12.676136",
     "status": "completed"
    },
    "tags": []
   },
   "outputs": [
    {
     "data": {
      "text/plain": [
       "<AxesSubplot:>"
      ]
     },
     "execution_count": 13,
     "metadata": {},
     "output_type": "execute_result"
    },
    {
     "data": {
      "image/png": "[encoded data removed]",
      "text/plain": [
       "<Figure size 432x288 with 1 Axes>"
      ]
     },
     "metadata": {
      "needs_background": "light"
     },
     "output_type": "display_data"
    }
   ],
   "source": [
    "\n",
    "# # What we are expecting from visualization. ? \n",
    "\n",
    "data1 =data.loc[:,[\"itching\",\"skin_rash\",\"coma\"] ]\n",
    "data1.plot()"
   ]
  },
  {
   "cell_type": "code",
   "execution_count": null,
   "id": "continent-scope",
   "metadata": {
    "execution": {
     "iopub.execute_input": "2021-07-25T14:05:13.042883Z",
     "iopub.status.busy": "2021-07-25T14:05:13.042241Z",
     "iopub.status.idle": "2021-07-25T14:05:13.573646Z",
     "shell.execute_reply": "2021-07-25T14:05:13.573012Z",
     "shell.execute_reply.started": "2021-07-25T14:04:29.636602Z"
    },
    "papermill": {
     "duration": 0.565823,
     "end_time": "2021-07-25T14:05:13.573791",
     "exception": false,
     "start_time": "2021-07-25T14:05:13.007968",
     "status": "completed"
    },
    "tags": []
   },
   "outputs": [
    {
     "data": {
      "text/plain": [
       "array([<AxesSubplot:>, <AxesSubplot:>, <AxesSubplot:>], dtype=object)"
      ]
     },
     "execution_count": 14,
     "metadata": {},
     "output_type": "execute_result"
    },
    {
     "data": {
      "image/png": "[encoded data removed]",
      "text/plain": [
       "<Figure size 432x288 with 3 Axes>"
      ]
     },
     "metadata": {
      "needs_background": "light"
     },
     "output_type": "display_data"
    }
   ],
   "source": [
    "## What we are expecting from visualization. ? \n",
    "\n",
    "data1.plot(subplots =True)\n"
   ]
  },
  {
   "cell_type": "code",
   "execution_count": null,
   "id": "illegal-integer",
   "metadata": {
    "execution": {
     "iopub.execute_input": "2021-07-25T14:05:13.643624Z",
     "iopub.status.busy": "2021-07-25T14:05:13.642956Z",
     "iopub.status.idle": "2021-07-25T14:05:13.817181Z",
     "shell.execute_reply": "2021-07-25T14:05:13.816745Z",
     "shell.execute_reply.started": "2021-07-25T14:04:30.174109Z"
    },
    "papermill": {
     "duration": 0.210499,
     "end_time": "2021-07-25T14:05:13.817302",
     "exception": false,
     "start_time": "2021-07-25T14:05:13.606803",
     "status": "completed"
    },
    "tags": []
   },
   "outputs": [
    {
     "data": {
      "text/plain": [
       "<AxesSubplot:xlabel='depression', ylabel='muscle_pain'>"
      ]
     },
     "execution_count": 15,
     "metadata": {},
     "output_type": "execute_result"
    },
    {
     "data": {
      "image/png": "[encoded data removed]",
      "text/plain": [
       "<Figure size 432x288 with 1 Axes>"
      ]
     },
     "metadata": {
      "needs_background": "light"
     },
     "output_type": "display_data"
    }
   ],
   "source": [
    "data.plot(kind= \"scatter\",x=\"depression\", y=\"muscle_pain\")\n"
   ]
  },
  {
   "cell_type": "code",
   "execution_count": null,
   "id": "covered-projection",
   "metadata": {
    "execution": {
     "iopub.execute_input": "2021-07-25T14:05:13.888550Z",
     "iopub.status.busy": "2021-07-25T14:05:13.887322Z",
     "iopub.status.idle": "2021-07-25T14:05:14.152161Z",
     "shell.execute_reply": "2021-07-25T14:05:14.152658Z",
     "shell.execute_reply.started": "2021-07-25T14:04:30.382670Z"
    },
    "papermill": {
     "duration": 0.302622,
     "end_time": "2021-07-25T14:05:14.152832",
     "exception": false,
     "start_time": "2021-07-25T14:05:13.850210",
     "status": "completed"
    },
    "tags": []
   },
   "outputs": [
    {
     "data": {
      "text/plain": [
       "<AxesSubplot:ylabel='Frequency'>"
      ]
     },
     "execution_count": 16,
     "metadata": {},
     "output_type": "execute_result"
    },
    {
     "data": {
      "image/png": "[encoded data removed]",
      "text/plain": [
       "<Figure size 432x288 with 1 Axes>"
      ]
     },
     "metadata": {
      "needs_background": "light"
     },
     "output_type": "display_data"
    }
   ],
   "source": [
    "data.plot(kind=\"hist\", y=\"acidity\", bins = 50, range=(0,250))\n"
   ]
  },
  {
   "cell_type": "code",
   "execution_count": null,
   "id": "remarkable-mixer",
   "metadata": {
    "execution": {
     "iopub.execute_input": "2021-07-25T14:05:14.227741Z",
     "iopub.status.busy": "2021-07-25T14:05:14.227123Z",
     "iopub.status.idle": "2021-07-25T14:05:14.234957Z",
     "shell.execute_reply": "2021-07-25T14:05:14.234389Z",
     "shell.execute_reply.started": "2021-07-25T14:04:30.678697Z"
    },
    "papermill": {
     "duration": 0.04718,
     "end_time": "2021-07-25T14:05:14.235074",
     "exception": false,
     "start_time": "2021-07-25T14:05:14.187894",
     "status": "completed"
    },
    "tags": []
   },
   "outputs": [
    {
     "data": {
      "text/plain": [
       "itching                 0\n",
       "skin_rash               0\n",
       "nodal_skin_eruptions    0\n",
       "continuous_sneezing     0\n",
       "shivering               0\n",
       "                       ..\n",
       "inflammatory_nails      0\n",
       "blister                 0\n",
       "red_sore_around_nose    0\n",
       "yellow_crust_ooze       0\n",
       "prognosis               0\n",
       "Length: 133, dtype: int64"
      ]
     },
     "execution_count": 17,
     "metadata": {},
     "output_type": "execute_result"
    }
   ],
   "source": [
    "data.isnull().sum()\n"
   ]
  },
  {
   "cell_type": "code",
   "execution_count": null,
   "id": "serial-feedback",
   "metadata": {
    "execution": {
     "iopub.execute_input": "2021-07-25T14:05:14.319698Z",
     "iopub.status.busy": "2021-07-25T14:05:14.312555Z",
     "iopub.status.idle": "2021-07-25T14:05:14.322947Z",
     "shell.execute_reply": "2021-07-25T14:05:14.322394Z",
     "shell.execute_reply.started": "2021-07-25T14:04:30.691000Z"
    },
    "papermill": {
     "duration": 0.053016,
     "end_time": "2021-07-25T14:05:14.323079",
     "exception": false,
     "start_time": "2021-07-25T14:05:14.270063",
     "status": "completed"
    },
    "tags": []
   },
   "outputs": [],
   "source": [
    "#Importing the train_test_split functionality \n",
    "from sklearn.model_selection import train_test_split\n",
    "\n",
    "X, y=data.iloc[:,:-1], data.iloc[:,-1]\n",
    "\n",
    "#Spliting the dataset into training set and test set\n",
    "X_train, X_test, y_train, y_test = train_test_split(X,y, test_size=0.3)\n",
    "#70% training and 30% test "
   ]
  },
  {
   "cell_type": "code",
   "execution_count": null,
   "id": "proof-provider",
   "metadata": {
    "execution": {
     "iopub.execute_input": "2021-07-25T14:05:14.398617Z",
     "iopub.status.busy": "2021-07-25T14:05:14.397962Z",
     "iopub.status.idle": "2021-07-25T14:05:14.992666Z",
     "shell.execute_reply": "2021-07-25T14:05:14.992144Z",
     "shell.execute_reply.started": "2021-07-25T14:04:30.708630Z"
    },
    "papermill": {
     "duration": 0.634665,
     "end_time": "2021-07-25T14:05:14.992803",
     "exception": false,
     "start_time": "2021-07-25T14:05:14.358138",
     "status": "completed"
    },
    "tags": []
   },
   "outputs": [],
   "source": [
    "#Import Random Forest Model\n",
    "from sklearn.ensemble import RandomForestClassifier\n",
    "\n",
    "#Create a Gaussian Classifier\n",
    "clf=RandomForestClassifier(n_estimators=100)\n",
    "\n",
    "#Train the model using the training sets y_pred=clf.predict(X_test)\n",
    "clf.fit(X_train,y_train)\n",
    "\n",
    "y_pred=clf.predict(X_test)"
   ]
  },
  {
   "cell_type": "code",
   "execution_count": null,
   "id": "rubber-overhead",
   "metadata": {
    "execution": {
     "iopub.execute_input": "2021-07-25T14:05:15.070542Z",
     "iopub.status.busy": "2021-07-25T14:05:15.069875Z",
     "iopub.status.idle": "2021-07-25T14:05:15.073966Z",
     "shell.execute_reply": "2021-07-25T14:05:15.073325Z",
     "shell.execute_reply.started": "2021-07-25T14:04:31.340018Z"
    },
    "papermill": {
     "duration": 0.046545,
     "end_time": "2021-07-25T14:05:15.074101",
     "exception": false,
     "start_time": "2021-07-25T14:05:15.027556",
     "status": "completed"
    },
    "tags": []
   },
   "outputs": [
    {
     "name": "stdout",
     "output_type": "stream",
     "text": [
      "Accuracy: 1.0\n"
     ]
    }
   ],
   "source": [
    "#Import scikit-learn metrics module for accuracy calculation\n",
    "from sklearn import metrics\n",
    "# Model Accuracy, how often is the classifier correct?\n",
    "print(\"Accuracy:\",metrics.accuracy_score(y_test, y_pred))"
   ]
  },
  {
   "cell_type": "code",
   "execution_count": null,
   "id": "macro-avenue",
   "metadata": {
    "execution": {
     "iopub.execute_input": "2021-07-25T14:05:15.154885Z",
     "iopub.status.busy": "2021-07-25T14:05:15.152642Z",
     "iopub.status.idle": "2021-07-25T14:05:15.170765Z",
     "shell.execute_reply": "2021-07-25T14:05:15.170200Z",
     "shell.execute_reply.started": "2021-07-25T14:04:31.350438Z"
    },
    "papermill": {
     "duration": 0.060919,
     "end_time": "2021-07-25T14:05:15.170922",
     "exception": false,
     "start_time": "2021-07-25T14:05:15.110003",
     "status": "completed"
    },
    "tags": []
   },
   "outputs": [
    {
     "data": {
      "text/plain": [
       "increased_appetite                0.008410\n",
       "burning_micturition               0.008418\n",
       "extra_marital_contacts            0.008467\n",
       "depression                        0.008549\n",
       "internal_itching                  0.008578\n",
       "movement_stiffness                0.008664\n",
       "knee_pain                         0.008675\n",
       "stomach_bleeding                  0.008678\n",
       "spotting_ urination               0.008726\n",
       "loss_of_balance                   0.008732\n",
       "continuous_feel_of_urine          0.008750\n",
       "rusty_sputum                      0.008752\n",
       "coma                              0.008796\n",
       "watering_from_eyes                0.008814\n",
       "cough                             0.009212\n",
       "headache                          0.009352\n",
       "receiving_unsterile_injections    0.009424\n",
       "abnormal_menstruation             0.009441\n",
       "mucoid_sputum                     0.009516\n",
       "yellowish_skin                    0.009761\n",
       "chills                            0.009789\n",
       "diarrhoea                         0.009834\n",
       "neck_pain                         0.009870\n",
       "sunken_eyes                       0.010200\n",
       "pus_filled_pimples                0.010377\n",
       "toxic_look_(typhos)               0.011144\n",
       "high_fever                        0.011179\n",
       "lack_of_concentration             0.011237\n",
       "dark_urine                        0.011283\n",
       "nausea                            0.011498\n",
       "abdominal_pain                    0.011662\n",
       "weight_loss                       0.011677\n",
       "malaise                           0.012099\n",
       "bladder_discomfort                0.012194\n",
       "breathlessness                    0.012449\n",
       "altered_sensorium                 0.012662\n",
       "loss_of_appetite                  0.012747\n",
       "mild_fever                        0.013410\n",
       "stomach_pain                      0.013602\n",
       "fatigue                           0.013703\n",
       "red_sore_around_nose              0.013941\n",
       "unsteadiness                      0.014127\n",
       "joint_pain                        0.014156\n",
       "sweating                          0.014185\n",
       "chest_pain                        0.014370\n",
       "itching                           0.014835\n",
       "yellowing_of_eyes                 0.014897\n",
       "family_history                    0.015274\n",
       "vomiting                          0.015577\n",
       "muscle_pain                       0.018402\n",
       "dtype: float64"
      ]
     },
     "execution_count": 21,
     "metadata": {},
     "output_type": "execute_result"
    }
   ],
   "source": [
    "feature_imp = pd.Series(clf.feature_importances_,index=list(data.columns[:-1])).sort_values(ascending=False).head(50)\n",
    "feature_imp[::-1]"
   ]
  },
  {
   "cell_type": "code",
   "execution_count": null,
   "id": "vital-belfast",
   "metadata": {
    "execution": {
     "iopub.execute_input": "2021-07-25T14:05:15.249974Z",
     "iopub.status.busy": "2021-07-25T14:05:15.248787Z",
     "iopub.status.idle": "2021-07-25T14:05:15.253297Z",
     "shell.execute_reply": "2021-07-25T14:05:15.252750Z",
     "shell.execute_reply.started": "2021-07-25T14:04:31.382688Z"
    },
    "papermill": {
     "duration": 0.046155,
     "end_time": "2021-07-25T14:05:15.253431",
     "exception": false,
     "start_time": "2021-07-25T14:05:15.207276",
     "status": "completed"
    },
    "tags": []
   },
   "outputs": [
    {
     "data": {
      "text/plain": [
       "Index(['increased_appetite', 'burning_micturition', 'extra_marital_contacts',\n",
       "       'depression', 'internal_itching', 'movement_stiffness', 'knee_pain',\n",
       "       'stomach_bleeding', 'spotting_ urination', 'loss_of_balance',\n",
       "       'continuous_feel_of_urine', 'rusty_sputum', 'coma',\n",
       "       'watering_from_eyes', 'cough', 'headache',\n",
       "       'receiving_unsterile_injections', 'abnormal_menstruation',\n",
       "       'mucoid_sputum', 'yellowish_skin', 'chills', 'diarrhoea', 'neck_pain',\n",
       "       'sunken_eyes', 'pus_filled_pimples', 'toxic_look_(typhos)',\n",
       "       'high_fever', 'lack_of_concentration', 'dark_urine', 'nausea',\n",
       "       'abdominal_pain', 'weight_loss', 'malaise', 'bladder_discomfort',\n",
       "       'breathlessness', 'altered_sensorium', 'loss_of_appetite', 'mild_fever',\n",
       "       'stomach_pain', 'fatigue', 'red_sore_around_nose', 'unsteadiness',\n",
       "       'joint_pain', 'sweating', 'chest_pain', 'itching', 'yellowing_of_eyes',\n",
       "       'family_history', 'vomiting', 'muscle_pain'],\n",
       "      dtype='object')"
      ]
     },
     "execution_count": 22,
     "metadata": {},
     "output_type": "execute_result"
    }
   ],
   "source": [
    "feature_imp[::-1].index\n"
   ]
  },
  {
   "cell_type": "code",
   "execution_count": null,
   "id": "weird-greenhouse",
   "metadata": {
    "execution": {
     "iopub.execute_input": "2021-07-25T14:05:15.346370Z",
     "iopub.status.busy": "2021-07-25T14:05:15.344950Z",
     "iopub.status.idle": "2021-07-25T14:05:16.223269Z",
     "shell.execute_reply": "2021-07-25T14:05:16.223732Z",
     "shell.execute_reply.started": "2021-07-25T14:04:31.393425Z"
    },
    "papermill": {
     "duration": 0.933326,
     "end_time": "2021-07-25T14:05:16.223889",
     "exception": false,
     "start_time": "2021-07-25T14:05:15.290563",
     "status": "completed"
    },
    "tags": []
   },
   "outputs": [
    {
     "data": {
      "image/png": "[encoded data removed]",
      "text/plain": [
       "<Figure size 1152x864 with 1 Axes>"
      ]
     },
     "metadata": {
      "needs_background": "light"
     },
     "output_type": "display_data"
    }
   ],
   "source": [
    "import matplotlib.pyplot as plt\n",
    "import seaborn as sns\n",
    "%matplotlib inline\n",
    "\n",
    "fig = plt.gcf()\n",
    "fig.set_size_inches(16, 12)\n",
    "\n",
    "# Creating a bar plot\n",
    "sns.set_style(\"whitegrid\")\n",
    "sns.barplot(x=feature_imp, y=feature_imp.index, palette='Blues_d',color='white')\n",
    "\n",
    "# Add labels to your graph\n",
    "plt.xlabel('Feature Importance Score')\n",
    "plt.ylabel('Features')\n",
    "plt.title(\"Visualizing Important Features\")\n",
    "plt.legend()\n",
    "plt.show()"
   ]
  },
  {
   "cell_type": "code",
   "execution_count": null,
   "id": "desirable-inspiration",
   "metadata": {
    "execution": {
     "iopub.execute_input": "2021-07-25T14:05:16.327897Z",
     "iopub.status.busy": "2021-07-25T14:05:16.326884Z",
     "iopub.status.idle": "2021-07-25T14:05:16.332531Z",
     "shell.execute_reply": "2021-07-25T14:05:16.332046Z",
     "shell.execute_reply.started": "2021-07-25T14:04:32.309675Z"
    },
    "papermill": {
     "duration": 0.065975,
     "end_time": "2021-07-25T14:05:16.332662",
     "exception": false,
     "start_time": "2021-07-25T14:05:16.266687",
     "status": "completed"
    },
    "tags": []
   },
   "outputs": [],
   "source": [
    "X_reduced, y = data[['receiving_blood_transfusion', 'red_sore_around_nose',\n",
    "       'abnormal_menstruation', 'continuous_sneezing', 'breathlessness',\n",
    "       'blackheads', 'shivering', 'dizziness', 'back_pain', 'unsteadiness',\n",
    "       'yellow_crust_ooze', 'muscle_weakness', 'loss_of_balance', 'chills',\n",
    "       'ulcers_on_tongue', 'stomach_bleeding', 'lack_of_concentration', 'coma',\n",
    "       'neck_pain', 'weakness_of_one_body_side', 'diarrhoea',\n",
    "       'receiving_unsterile_injections', 'headache', 'family_history',\n",
    "       'fast_heart_rate', 'pain_behind_the_eyes', 'sweating', 'mucoid_sputum',\n",
    "       'spotting_ urination', 'sunken_eyes', 'dischromic _patches', 'nausea',\n",
    "       'dehydration', 'loss_of_appetite', 'abdominal_pain', 'stomach_pain',\n",
    "       'yellowish_skin', 'altered_sensorium', 'chest_pain', 'muscle_wasting',\n",
    "       'vomiting', 'mild_fever', 'high_fever', 'red_spots_over_body',\n",
    "       'dark_urine', 'itching', 'yellowing_of_eyes', 'fatigue', 'joint_pain',\n",
    "       'muscle_pain']], data.iloc[:,-1]\n",
    "\n",
    "# Split dataset into training set and test set\n",
    "X_train, X_test, y_train, y_test = train_test_split(X_reduced, y, test_size=0.3) # 70% training and 30% test"
   ]
  },
  {
   "cell_type": "code",
   "execution_count": null,
   "id": "numeric-interview",
   "metadata": {
    "execution": {
     "iopub.execute_input": "2021-07-25T14:05:16.438875Z",
     "iopub.status.busy": "2021-07-25T14:05:16.437917Z",
     "iopub.status.idle": "2021-07-25T14:05:16.443627Z",
     "shell.execute_reply": "2021-07-25T14:05:16.444342Z",
     "shell.execute_reply.started": "2021-07-25T14:04:32.325404Z"
    },
    "papermill": {
     "duration": 0.074304,
     "end_time": "2021-07-25T14:05:16.444626",
     "exception": false,
     "start_time": "2021-07-25T14:05:16.370322",
     "status": "completed"
    },
    "tags": []
   },
   "outputs": [
    {
     "data": {
      "text/html": [
       "<div>\n",
       "<style scoped>\n",
       "    .dataframe tbody tr th:only-of-type {\n",
       "        vertical-align: middle;\n",
       "    }\n",
       "\n",
       "    .dataframe tbody tr th {\n",
       "        vertical-align: top;\n",
       "    }\n",
       "\n",
       "    .dataframe thead th {\n",
       "        text-align: right;\n",
       "    }\n",
       "</style>\n",
       "<table border=\"1\" class=\"dataframe\">\n",
       "  <thead>\n",
       "    <tr style=\"text-align: right;\">\n",
       "      <th></th>\n",
       "      <th>receiving_blood_transfusion</th>\n",
       "      <th>red_sore_around_nose</th>\n",
       "      <th>abnormal_menstruation</th>\n",
       "      <th>continuous_sneezing</th>\n",
       "      <th>breathlessness</th>\n",
       "      <th>blackheads</th>\n",
       "      <th>shivering</th>\n",
       "      <th>dizziness</th>\n",
       "      <th>back_pain</th>\n",
       "      <th>unsteadiness</th>\n",
       "      <th>...</th>\n",
       "      <th>vomiting</th>\n",
       "      <th>mild_fever</th>\n",
       "      <th>high_fever</th>\n",
       "      <th>red_spots_over_body</th>\n",
       "      <th>dark_urine</th>\n",
       "      <th>itching</th>\n",
       "      <th>yellowing_of_eyes</th>\n",
       "      <th>fatigue</th>\n",
       "      <th>joint_pain</th>\n",
       "      <th>muscle_pain</th>\n",
       "    </tr>\n",
       "  </thead>\n",
       "  <tbody>\n",
       "    <tr>\n",
       "      <th>0</th>\n",
       "      <td>0</td>\n",
       "      <td>0</td>\n",
       "      <td>0</td>\n",
       "      <td>0</td>\n",
       "      <td>0</td>\n",
       "      <td>0</td>\n",
       "      <td>0</td>\n",
       "      <td>0</td>\n",
       "      <td>0</td>\n",
       "      <td>0</td>\n",
       "      <td>...</td>\n",
       "      <td>0</td>\n",
       "      <td>0</td>\n",
       "      <td>0</td>\n",
       "      <td>0</td>\n",
       "      <td>0</td>\n",
       "      <td>1</td>\n",
       "      <td>0</td>\n",
       "      <td>0</td>\n",
       "      <td>0</td>\n",
       "      <td>0</td>\n",
       "    </tr>\n",
       "    <tr>\n",
       "      <th>1</th>\n",
       "      <td>0</td>\n",
       "      <td>0</td>\n",
       "      <td>0</td>\n",
       "      <td>0</td>\n",
       "      <td>0</td>\n",
       "      <td>0</td>\n",
       "      <td>0</td>\n",
       "      <td>0</td>\n",
       "      <td>0</td>\n",
       "      <td>0</td>\n",
       "      <td>...</td>\n",
       "      <td>0</td>\n",
       "      <td>0</td>\n",
       "      <td>0</td>\n",
       "      <td>0</td>\n",
       "      <td>0</td>\n",
       "      <td>0</td>\n",
       "      <td>0</td>\n",
       "      <td>0</td>\n",
       "      <td>0</td>\n",
       "      <td>0</td>\n",
       "    </tr>\n",
       "    <tr>\n",
       "      <th>2</th>\n",
       "      <td>0</td>\n",
       "      <td>0</td>\n",
       "      <td>0</td>\n",
       "      <td>0</td>\n",
       "      <td>0</td>\n",
       "      <td>0</td>\n",
       "      <td>0</td>\n",
       "      <td>0</td>\n",
       "      <td>0</td>\n",
       "      <td>0</td>\n",
       "      <td>...</td>\n",
       "      <td>0</td>\n",
       "      <td>0</td>\n",
       "      <td>0</td>\n",
       "      <td>0</td>\n",
       "      <td>0</td>\n",
       "      <td>1</td>\n",
       "      <td>0</td>\n",
       "      <td>0</td>\n",
       "      <td>0</td>\n",
       "      <td>0</td>\n",
       "    </tr>\n",
       "    <tr>\n",
       "      <th>3</th>\n",
       "      <td>0</td>\n",
       "      <td>0</td>\n",
       "      <td>0</td>\n",
       "      <td>0</td>\n",
       "      <td>0</td>\n",
       "      <td>0</td>\n",
       "      <td>0</td>\n",
       "      <td>0</td>\n",
       "      <td>0</td>\n",
       "      <td>0</td>\n",
       "      <td>...</td>\n",
       "      <td>0</td>\n",
       "      <td>0</td>\n",
       "      <td>0</td>\n",
       "      <td>0</td>\n",
       "      <td>0</td>\n",
       "      <td>1</td>\n",
       "      <td>0</td>\n",
       "      <td>0</td>\n",
       "      <td>0</td>\n",
       "      <td>0</td>\n",
       "    </tr>\n",
       "    <tr>\n",
       "      <th>4</th>\n",
       "      <td>0</td>\n",
       "      <td>0</td>\n",
       "      <td>0</td>\n",
       "      <td>0</td>\n",
       "      <td>0</td>\n",
       "      <td>0</td>\n",
       "      <td>0</td>\n",
       "      <td>0</td>\n",
       "      <td>0</td>\n",
       "      <td>0</td>\n",
       "      <td>...</td>\n",
       "      <td>0</td>\n",
       "      <td>0</td>\n",
       "      <td>0</td>\n",
       "      <td>0</td>\n",
       "      <td>0</td>\n",
       "      <td>1</td>\n",
       "      <td>0</td>\n",
       "      <td>0</td>\n",
       "      <td>0</td>\n",
       "      <td>0</td>\n",
       "    </tr>\n",
       "  </tbody>\n",
       "</table>\n",
       "<p>5 rows × 50 columns</p>\n",
       "</div>"
      ],
      "text/plain": [
       "   receiving_blood_transfusion  red_sore_around_nose  abnormal_menstruation  \\\n",
       "0                            0                     0                      0   \n",
       "1                            0                     0                      0   \n",
       "2                            0                     0                      0   \n",
       "3                            0                     0                      0   \n",
       "4                            0                     0                      0   \n",
       "\n",
       "   continuous_sneezing  breathlessness  blackheads  shivering  dizziness  \\\n",
       "0                    0               0           0          0          0   \n",
       "1                    0               0           0          0          0   \n",
       "2                    0               0           0          0          0   \n",
       "3                    0               0           0          0          0   \n",
       "4                    0               0           0          0          0   \n",
       "\n",
       "   back_pain  unsteadiness  ...  vomiting  mild_fever  high_fever  \\\n",
       "0          0             0  ...         0           0           0   \n",
       "1          0             0  ...         0           0           0   \n",
       "2          0             0  ...         0           0           0   \n",
       "3          0             0  ...         0           0           0   \n",
       "4          0             0  ...         0           0           0   \n",
       "\n",
       "   red_spots_over_body  dark_urine  itching  yellowing_of_eyes  fatigue  \\\n",
       "0                    0           0        1                  0        0   \n",
       "1                    0           0        0                  0        0   \n",
       "2                    0           0        1                  0        0   \n",
       "3                    0           0        1                  0        0   \n",
       "4                    0           0        1                  0        0   \n",
       "\n",
       "   joint_pain  muscle_pain  \n",
       "0           0            0  \n",
       "1           0            0  \n",
       "2           0            0  \n",
       "3           0            0  \n",
       "4           0            0  \n",
       "\n",
       "[5 rows x 50 columns]"
      ]
     },
     "execution_count": 25,
     "metadata": {},
     "output_type": "execute_result"
    }
   ],
   "source": [
    "X_reduced.head()\n"
   ]
  },
  {
   "cell_type": "code",
   "execution_count": null,
   "id": "pregnant-harvey",
   "metadata": {
    "execution": {
     "iopub.execute_input": "2021-07-25T14:05:16.545380Z",
     "iopub.status.busy": "2021-07-25T14:05:16.544706Z",
     "iopub.status.idle": "2021-07-25T14:05:16.950836Z",
     "shell.execute_reply": "2021-07-25T14:05:16.950031Z",
     "shell.execute_reply.started": "2021-07-25T14:04:32.349669Z"
    },
    "papermill": {
     "duration": 0.462635,
     "end_time": "2021-07-25T14:05:16.951033",
     "exception": false,
     "start_time": "2021-07-25T14:05:16.488398",
     "status": "completed"
    },
    "tags": []
   },
   "outputs": [
    {
     "name": "stdout",
     "output_type": "stream",
     "text": [
      "Accuracy: 0.9361987911349899\n"
     ]
    }
   ],
   "source": [
    "#Create a Gaussian Classifier\n",
    "clf2=RandomForestClassifier(n_estimators=100)\n",
    "\n",
    "#Train the model using the training sets y_pred=clf.predict(X_test)\n",
    "clf2.fit(X_train,y_train)\n",
    "\n",
    "y_pred=clf2.predict(X_test)\n",
    "\n",
    "# Model Accuracy, how often is the classifier correct?\n",
    "print(\"Accuracy:\",metrics.accuracy_score(y_test, y_pred))"
   ]
  },
  {
   "cell_type": "code",
   "execution_count": null,
   "id": "going-variation",
   "metadata": {
    "execution": {
     "iopub.execute_input": "2021-07-25T14:05:17.047370Z",
     "iopub.status.busy": "2021-07-25T14:05:17.046340Z",
     "iopub.status.idle": "2021-07-25T14:05:17.061041Z",
     "shell.execute_reply": "2021-07-25T14:05:17.061555Z",
     "shell.execute_reply.started": "2021-07-25T14:04:32.782699Z"
    },
    "papermill": {
     "duration": 0.065985,
     "end_time": "2021-07-25T14:05:17.061731",
     "exception": false,
     "start_time": "2021-07-25T14:05:16.995746",
     "status": "completed"
    },
    "tags": []
   },
   "outputs": [
    {
     "data": {
      "text/plain": [
       "weakness_of_one_body_side         0.007247\n",
       "ulcers_on_tongue                  0.008438\n",
       "dehydration                       0.009000\n",
       "sunken_eyes                       0.009367\n",
       "continuous_sneezing               0.010119\n",
       "pain_behind_the_eyes              0.010137\n",
       "lack_of_concentration             0.010140\n",
       "coma                              0.010554\n",
       "receiving_blood_transfusion       0.010691\n",
       "yellow_crust_ooze                 0.010791\n",
       "mucoid_sputum                     0.011681\n",
       "stomach_bleeding                  0.012127\n",
       "shivering                         0.012532\n",
       "unsteadiness                      0.012640\n",
       "receiving_unsterile_injections    0.013045\n",
       "dizziness                         0.013747\n",
       "red_spots_over_body               0.014560\n",
       "spotting_ urination               0.014697\n",
       "back_pain                         0.014856\n",
       "red_sore_around_nose              0.015231\n",
       "dischromic _patches               0.015691\n",
       "altered_sensorium                 0.016265\n",
       "fast_heart_rate                   0.016474\n",
       "stomach_pain                      0.017483\n",
       "breathlessness                    0.018800\n",
       "muscle_wasting                    0.018937\n",
       "dark_urine                        0.019729\n",
       "family_history                    0.019741\n",
       "loss_of_balance                   0.020353\n",
       "abnormal_menstruation             0.022220\n",
       "diarrhoea                         0.022697\n",
       "yellowing_of_eyes                 0.023013\n",
       "chills                            0.023959\n",
       "yellowish_skin                    0.024441\n",
       "abdominal_pain                    0.024646\n",
       "vomiting                          0.025120\n",
       "mild_fever                        0.025325\n",
       "muscle_pain                       0.025948\n",
       "blackheads                        0.025976\n",
       "chest_pain                        0.026776\n",
       "neck_pain                         0.027176\n",
       "loss_of_appetite                  0.028009\n",
       "sweating                          0.028512\n",
       "muscle_weakness                   0.028995\n",
       "itching                           0.030475\n",
       "nausea                            0.031539\n",
       "high_fever                        0.035411\n",
       "headache                          0.035918\n",
       "joint_pain                        0.036893\n",
       "fatigue                           0.051878\n",
       "dtype: float64"
      ]
     },
     "execution_count": 27,
     "metadata": {},
     "output_type": "execute_result"
    }
   ],
   "source": [
    "feature_imp2 = pd.Series(clf2.feature_importances_,index=list(X_reduced.columns)).sort_values(ascending=False)\n",
    "feature_imp2[::-1]"
   ]
  },
  {
   "cell_type": "code",
   "execution_count": null,
   "id": "indonesian-shepherd",
   "metadata": {
    "execution": {
     "iopub.execute_input": "2021-07-25T14:05:17.143850Z",
     "iopub.status.busy": "2021-07-25T14:05:17.143229Z",
     "iopub.status.idle": "2021-07-25T14:05:17.992734Z",
     "shell.execute_reply": "2021-07-25T14:05:17.993340Z",
     "shell.execute_reply.started": "2021-07-25T14:04:32.809271Z"
    },
    "papermill": {
     "duration": 0.891831,
     "end_time": "2021-07-25T14:05:17.993523",
     "exception": false,
     "start_time": "2021-07-25T14:05:17.101692",
     "status": "completed"
    },
    "tags": []
   },
   "outputs": [
    {
     "data": {
      "image/png": "[encoded data removed]",
      "text/plain": [
       "<Figure size 1152x864 with 1 Axes>"
      ]
     },
     "metadata": {},
     "output_type": "display_data"
    }
   ],
   "source": [
    "fig = plt.gcf()\n",
    "fig.set_size_inches(16, 12)\n",
    "\n",
    "# Creating a bar plot\n",
    "sns.set_style(\"whitegrid\")\n",
    "sns.barplot(x=feature_imp2, y=feature_imp2.index, palette='Blues_d',color='white')\n",
    "\n",
    "# Add labels to your graph\n",
    "plt.xlabel('Feature Importance Score')\n",
    "plt.ylabel('Features')\n",
    "plt.title(\"Visualizing Important Features\")\n",
    "plt.legend()\n",
    "plt.show()"
   ]
  },
  {
   "cell_type": "code",
   "execution_count": null,
   "id": "recognized-checkout",
   "metadata": {
    "execution": {
     "iopub.execute_input": "2021-07-25T14:05:18.081883Z",
     "iopub.status.busy": "2021-07-25T14:05:18.081150Z",
     "iopub.status.idle": "2021-07-25T14:05:18.105715Z",
     "shell.execute_reply": "2021-07-25T14:05:18.106249Z",
     "shell.execute_reply.started": "2021-07-25T14:04:33.660290Z"
    },
    "papermill": {
     "duration": 0.070605,
     "end_time": "2021-07-25T14:05:18.106406",
     "exception": false,
     "start_time": "2021-07-25T14:05:18.035801",
     "status": "completed"
    },
    "tags": []
   },
   "outputs": [
    {
     "data": {
      "text/plain": [
       "Arthritis                                  0.02439\n",
       "Typhoid                                    0.02439\n",
       "Malaria                                    0.02439\n",
       "Dengue                                     0.02439\n",
       "Hypoglycemia                               0.02439\n",
       "Osteoarthristis                            0.02439\n",
       "Dimorphic hemmorhoids(piles)               0.02439\n",
       "Chronic cholestasis                        0.02439\n",
       "Hepatitis B                                0.02439\n",
       "Alcoholic hepatitis                        0.02439\n",
       "Hepatitis C                                0.02439\n",
       "Migraine                                   0.02439\n",
       "GERD                                       0.02439\n",
       "Gastroenteritis                            0.02439\n",
       "Common Cold                                0.02439\n",
       "(vertigo) Paroymsal  Positional Vertigo    0.02439\n",
       "Drug Reaction                              0.02439\n",
       "Fungal infection                           0.02439\n",
       "Bronchial Asthma                           0.02439\n",
       "Chicken pox                                0.02439\n",
       "Hyperthyroidism                            0.02439\n",
       "hepatitis A                                0.02439\n",
       "Urinary tract infection                    0.02439\n",
       "Hepatitis E                                0.02439\n",
       "Psoriasis                                  0.02439\n",
       "Acne                                       0.02439\n",
       "Allergy                                    0.02439\n",
       "Hypothyroidism                             0.02439\n",
       "Diabetes                                   0.02439\n",
       "Peptic ulcer diseae                        0.02439\n",
       "Hypertension                               0.02439\n",
       "Pneumonia                                  0.02439\n",
       "Heart attack                               0.02439\n",
       "Cervical spondylosis                       0.02439\n",
       "Varicose veins                             0.02439\n",
       "Jaundice                                   0.02439\n",
       "Paralysis (brain hemorrhage)               0.02439\n",
       "AIDS                                       0.02439\n",
       "Impetigo                                   0.02439\n",
       "Hepatitis D                                0.02439\n",
       "Tuberculosis                               0.02439\n",
       "Name: prognosis, dtype: float64"
      ]
     },
     "execution_count": 29,
     "metadata": {},
     "output_type": "execute_result"
    }
   ],
   "source": [
    "#looking how much percent each diseases having\n",
    "data['prognosis'].value_counts(normalize = True)"
   ]
  },
  {
   "cell_type": "code",
   "execution_count": null,
   "id": "forward-negative",
   "metadata": {
    "papermill": {
     "duration": 0.042786,
     "end_time": "2021-07-25T14:05:18.193490",
     "exception": false,
     "start_time": "2021-07-25T14:05:18.150704",
     "status": "completed"
    },
    "tags": []
   },
   "outputs": [],
   "source": []
  },
  {
   "cell_type": "code",
   "execution_count": null,
   "id": "harmful-shooting",
   "metadata": {
    "execution": {
     "iopub.execute_input": "2021-07-25T14:05:18.281606Z",
     "iopub.status.busy": "2021-07-25T14:05:18.281012Z",
     "iopub.status.idle": "2021-07-25T14:05:18.835773Z",
     "shell.execute_reply": "2021-07-25T14:05:18.836211Z",
     "shell.execute_reply.started": "2021-07-25T14:04:33.684960Z"
    },
    "papermill": {
     "duration": 0.600475,
     "end_time": "2021-07-25T14:05:18.836359",
     "exception": false,
     "start_time": "2021-07-25T14:05:18.235884",
     "status": "completed"
    },
    "tags": []
   },
   "outputs": [
    {
     "data": {
      "image/png": "[encoded data removed]",
      "text/plain": [
       "<Figure size 432x288 with 1 Axes>"
      ]
     },
     "metadata": {},
     "output_type": "display_data"
    }
   ],
   "source": [
    "#Plotting through bar chart \n",
    "data['prognosis'].value_counts(normalize = True).plot.bar()\n",
    "plt.subplots_adjust(left = 0.9, right = 2 , top = 2, bottom = 1)"
   ]
  }
 ],
 "metadata": {
  "kernelspec": {
   "display_name": "Python 3",
   "language": "python",
   "name": "python3"
  },
  "language_info": {
   "codemirror_mode": {
    "name": "ipython",
    "version": 3
   },
   "file_extension": ".py",
   "mimetype": "text/x-python",
   "name": "python",
   "nbconvert_exporter": "python",
   "pygments_lexer": "ipython3",
   "version": "3.8.0 (tags/v3.8.0:fa919fd, Oct 14 2019, 19:37:50) [MSC v.1916 64 bit (AMD64)]"
  },
  "papermill": {
   "default_parameters": {},
   "duration": 16.717679,
   "end_time": "2021-07-25T14:05:19.588447",
   "environment_variables": {},
   "exception": null,
   "input_path": "__notebook__.ipynb",
   "output_path": "__notebook__.ipynb",
   "parameters": {},
   "start_time": "2021-07-25T14:05:02.870768",
   "version": "2.3.3"
  },
  "vscode": {
   "interpreter": {
    "hash": "ee000f1117b9a126c7e74f1609f79a5548d96e16f319ed6588f0c09e1a641cb6"
   }
  }
 },
 "nbformat": 4,
 "nbformat_minor": 5
}
